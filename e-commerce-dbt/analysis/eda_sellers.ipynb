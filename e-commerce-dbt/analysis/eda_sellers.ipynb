{
 "cells": [
  {
   "cell_type": "code",
   "execution_count": 1,
   "id": "591ca751-c7f3-43f8-b77d-ed654f6e47f0",
   "metadata": {},
   "outputs": [],
   "source": [
    "import pandas as pd\n",
    "import numpy as np\n",
    "import matplotlib.pyplot as plt"
   ]
  },
  {
   "cell_type": "code",
   "execution_count": 2,
   "id": "b2db717a-aba4-404b-bb1b-9b51adaa6064",
   "metadata": {},
   "outputs": [],
   "source": [
    "from sqlalchemy import create_engine\n",
    "from google.auth import credentials\n",
    "\n",
    "# Set the credentials and project details\n",
    "project_id = 'dsai-g3-m2-project'\n",
    "credentials_path = 'path-to-credentials.json'\n",
    "\n",
    "# Set the Google Cloud authentication environment variable\n",
    "import os\n",
    "os.environ[\"GOOGLE_APPLICATION_CREDENTIALS\"] = credentials_path\n",
    "\n",
    "# Define the connection string\n",
    "connection_string = f\"bigquery://{project_id}\"\n",
    "\n",
    "# Create the engine using SQLAlchemy\n",
    "engine = create_engine(connection_string)\n",
    "\n",
    "# Connect to the BigQuery instance\n",
    "with engine.connect() as connection:\n",
    "    # Sample query to run against BigQuery\n",
    "    query = \"SELECT * FROM `brazilian_ecommerce_sales.dim_sellers` LIMIT 5000\"\n",
    "    result = connection.execute(query)\n",
    "\n",
    "    data=pd.DataFrame(result)\n",
    "\n",
    "    # Fetch the results and print them\n",
    "    '''\n",
    "    for row in result:\n",
    "        print(row)\n",
    "    '''"
   ]
  },
  {
   "cell_type": "code",
   "execution_count": 3,
   "id": "9630337e-d3a6-4531-8d05-269e5fe00f82",
   "metadata": {},
   "outputs": [
    {
     "name": "stdout",
     "output_type": "stream",
     "text": [
      "<class 'pandas.core.frame.DataFrame'>\n",
      "RangeIndex: 3095 entries, 0 to 3094\n",
      "Data columns (total 5 columns):\n",
      " #   Column                      Non-Null Count  Dtype  \n",
      "---  ------                      --------------  -----  \n",
      " 0   seller_id                   3095 non-null   object \n",
      " 1   seller_zip_code_prefix      3095 non-null   int64  \n",
      " 2   seller_city                 3095 non-null   object \n",
      " 3   seller_state                3095 non-null   object \n",
      " 4   seller_total_order_revenue  3095 non-null   float64\n",
      "dtypes: float64(1), int64(1), object(3)\n",
      "memory usage: 121.0+ KB\n"
     ]
    }
   ],
   "source": [
    "data.info()"
   ]
  },
  {
   "cell_type": "code",
   "execution_count": 4,
   "id": "d7345680-7717-47d0-8b06-4a193be52db4",
   "metadata": {},
   "outputs": [
    {
     "data": {
      "text/html": [
       "<div>\n",
       "<style scoped>\n",
       "    .dataframe tbody tr th:only-of-type {\n",
       "        vertical-align: middle;\n",
       "    }\n",
       "\n",
       "    .dataframe tbody tr th {\n",
       "        vertical-align: top;\n",
       "    }\n",
       "\n",
       "    .dataframe thead th {\n",
       "        text-align: right;\n",
       "    }\n",
       "</style>\n",
       "<table border=\"1\" class=\"dataframe\">\n",
       "  <thead>\n",
       "    <tr style=\"text-align: right;\">\n",
       "      <th></th>\n",
       "      <th>seller_id</th>\n",
       "      <th>seller_zip_code_prefix</th>\n",
       "      <th>seller_city</th>\n",
       "      <th>seller_state</th>\n",
       "      <th>seller_total_order_revenue</th>\n",
       "    </tr>\n",
       "  </thead>\n",
       "  <tbody>\n",
       "    <tr>\n",
       "      <th>0</th>\n",
       "      <td>c13ef0cfbe42f190780f621ce81f2234</td>\n",
       "      <td>1207</td>\n",
       "      <td>sao paulo sp</td>\n",
       "      <td>SP</td>\n",
       "      <td>390.00</td>\n",
       "    </tr>\n",
       "    <tr>\n",
       "      <th>1</th>\n",
       "      <td>5444b12c82f21c923f2639ebc722c1ea</td>\n",
       "      <td>2051</td>\n",
       "      <td>sao pauo</td>\n",
       "      <td>SP</td>\n",
       "      <td>169.90</td>\n",
       "    </tr>\n",
       "    <tr>\n",
       "      <th>2</th>\n",
       "      <td>1cbd32d00d01bb8087a5eb088612fd9c</td>\n",
       "      <td>3363</td>\n",
       "      <td>sp / sp</td>\n",
       "      <td>SP</td>\n",
       "      <td>1045.47</td>\n",
       "    </tr>\n",
       "    <tr>\n",
       "      <th>3</th>\n",
       "      <td>71593c7413973a1e160057b80d4958f6</td>\n",
       "      <td>3407</td>\n",
       "      <td>sao paulo / sao paulo</td>\n",
       "      <td>SP</td>\n",
       "      <td>299.50</td>\n",
       "    </tr>\n",
       "    <tr>\n",
       "      <th>4</th>\n",
       "      <td>6f1a1263039c76e68f40a8e536b1da6a</td>\n",
       "      <td>3581</td>\n",
       "      <td>sao paulop</td>\n",
       "      <td>SP</td>\n",
       "      <td>256.39</td>\n",
       "    </tr>\n",
       "  </tbody>\n",
       "</table>\n",
       "</div>"
      ],
      "text/plain": [
       "                          seller_id  seller_zip_code_prefix  \\\n",
       "0  c13ef0cfbe42f190780f621ce81f2234                    1207   \n",
       "1  5444b12c82f21c923f2639ebc722c1ea                    2051   \n",
       "2  1cbd32d00d01bb8087a5eb088612fd9c                    3363   \n",
       "3  71593c7413973a1e160057b80d4958f6                    3407   \n",
       "4  6f1a1263039c76e68f40a8e536b1da6a                    3581   \n",
       "\n",
       "             seller_city seller_state  seller_total_order_revenue  \n",
       "0           sao paulo sp           SP                      390.00  \n",
       "1               sao pauo           SP                      169.90  \n",
       "2                sp / sp           SP                     1045.47  \n",
       "3  sao paulo / sao paulo           SP                      299.50  \n",
       "4             sao paulop           SP                      256.39  "
      ]
     },
     "execution_count": 4,
     "metadata": {},
     "output_type": "execute_result"
    }
   ],
   "source": [
    "data.head()"
   ]
  },
  {
   "cell_type": "code",
   "execution_count": 5,
   "id": "8116499a-8e61-4c3a-a613-68693201efe4",
   "metadata": {},
   "outputs": [],
   "source": [
    "data.seller_id=data.seller_id.astype('string') "
   ]
  },
  {
   "cell_type": "code",
   "execution_count": 6,
   "id": "e6c2f07e-dfa3-4535-ad36-69381a0d1901",
   "metadata": {},
   "outputs": [
    {
     "name": "stdout",
     "output_type": "stream",
     "text": [
      "<class 'pandas.core.frame.DataFrame'>\n",
      "RangeIndex: 3095 entries, 0 to 3094\n",
      "Data columns (total 5 columns):\n",
      " #   Column                      Non-Null Count  Dtype  \n",
      "---  ------                      --------------  -----  \n",
      " 0   seller_id                   3095 non-null   string \n",
      " 1   seller_zip_code_prefix      3095 non-null   int64  \n",
      " 2   seller_city                 3095 non-null   object \n",
      " 3   seller_state                3095 non-null   object \n",
      " 4   seller_total_order_revenue  3095 non-null   float64\n",
      "dtypes: float64(1), int64(1), object(2), string(1)\n",
      "memory usage: 121.0+ KB\n"
     ]
    }
   ],
   "source": [
    "data.info()"
   ]
  },
  {
   "cell_type": "code",
   "execution_count": 7,
   "id": "ac577492-a368-4167-9115-4beffb251ac8",
   "metadata": {},
   "outputs": [],
   "source": [
    "data.seller_city=data.seller_city.astype('string') "
   ]
  },
  {
   "cell_type": "code",
   "execution_count": 8,
   "id": "8f0ec5fb-b0eb-468f-888f-8ec10ec55904",
   "metadata": {},
   "outputs": [],
   "source": [
    "data.seller_state=data.seller_state.astype('string') "
   ]
  },
  {
   "cell_type": "code",
   "execution_count": 9,
   "id": "e3b186d5-56bc-4458-ba49-0831463e4000",
   "metadata": {},
   "outputs": [
    {
     "name": "stdout",
     "output_type": "stream",
     "text": [
      "<class 'pandas.core.frame.DataFrame'>\n",
      "RangeIndex: 3095 entries, 0 to 3094\n",
      "Data columns (total 5 columns):\n",
      " #   Column                      Non-Null Count  Dtype  \n",
      "---  ------                      --------------  -----  \n",
      " 0   seller_id                   3095 non-null   string \n",
      " 1   seller_zip_code_prefix      3095 non-null   int64  \n",
      " 2   seller_city                 3095 non-null   string \n",
      " 3   seller_state                3095 non-null   string \n",
      " 4   seller_total_order_revenue  3095 non-null   float64\n",
      "dtypes: float64(1), int64(1), string(3)\n",
      "memory usage: 121.0 KB\n"
     ]
    }
   ],
   "source": [
    "data.info()"
   ]
  },
  {
   "cell_type": "code",
   "execution_count": 10,
   "id": "727fcb4e-638d-464e-9a6c-3c96c5fff248",
   "metadata": {},
   "outputs": [
    {
     "data": {
      "text/html": [
       "<div>\n",
       "<style scoped>\n",
       "    .dataframe tbody tr th:only-of-type {\n",
       "        vertical-align: middle;\n",
       "    }\n",
       "\n",
       "    .dataframe tbody tr th {\n",
       "        vertical-align: top;\n",
       "    }\n",
       "\n",
       "    .dataframe thead th {\n",
       "        text-align: right;\n",
       "    }\n",
       "</style>\n",
       "<table border=\"1\" class=\"dataframe\">\n",
       "  <thead>\n",
       "    <tr style=\"text-align: right;\">\n",
       "      <th></th>\n",
       "      <th>seller_id</th>\n",
       "      <th>seller_zip_code_prefix</th>\n",
       "      <th>seller_city</th>\n",
       "      <th>seller_state</th>\n",
       "      <th>seller_total_order_revenue</th>\n",
       "    </tr>\n",
       "  </thead>\n",
       "  <tbody>\n",
       "    <tr>\n",
       "      <th>0</th>\n",
       "      <td>c13ef0cfbe42f190780f621ce81f2234</td>\n",
       "      <td>1207</td>\n",
       "      <td>sao paulo sp</td>\n",
       "      <td>SP</td>\n",
       "      <td>390.00</td>\n",
       "    </tr>\n",
       "    <tr>\n",
       "      <th>1</th>\n",
       "      <td>5444b12c82f21c923f2639ebc722c1ea</td>\n",
       "      <td>2051</td>\n",
       "      <td>sao pauo</td>\n",
       "      <td>SP</td>\n",
       "      <td>169.90</td>\n",
       "    </tr>\n",
       "    <tr>\n",
       "      <th>2</th>\n",
       "      <td>1cbd32d00d01bb8087a5eb088612fd9c</td>\n",
       "      <td>3363</td>\n",
       "      <td>sp / sp</td>\n",
       "      <td>SP</td>\n",
       "      <td>1045.47</td>\n",
       "    </tr>\n",
       "    <tr>\n",
       "      <th>3</th>\n",
       "      <td>71593c7413973a1e160057b80d4958f6</td>\n",
       "      <td>3407</td>\n",
       "      <td>sao paulo / sao paulo</td>\n",
       "      <td>SP</td>\n",
       "      <td>299.50</td>\n",
       "    </tr>\n",
       "    <tr>\n",
       "      <th>4</th>\n",
       "      <td>6f1a1263039c76e68f40a8e536b1da6a</td>\n",
       "      <td>3581</td>\n",
       "      <td>sao paulop</td>\n",
       "      <td>SP</td>\n",
       "      <td>256.39</td>\n",
       "    </tr>\n",
       "  </tbody>\n",
       "</table>\n",
       "</div>"
      ],
      "text/plain": [
       "                          seller_id  seller_zip_code_prefix  \\\n",
       "0  c13ef0cfbe42f190780f621ce81f2234                    1207   \n",
       "1  5444b12c82f21c923f2639ebc722c1ea                    2051   \n",
       "2  1cbd32d00d01bb8087a5eb088612fd9c                    3363   \n",
       "3  71593c7413973a1e160057b80d4958f6                    3407   \n",
       "4  6f1a1263039c76e68f40a8e536b1da6a                    3581   \n",
       "\n",
       "             seller_city seller_state  seller_total_order_revenue  \n",
       "0           sao paulo sp           SP                      390.00  \n",
       "1               sao pauo           SP                      169.90  \n",
       "2                sp / sp           SP                     1045.47  \n",
       "3  sao paulo / sao paulo           SP                      299.50  \n",
       "4             sao paulop           SP                      256.39  "
      ]
     },
     "execution_count": 10,
     "metadata": {},
     "output_type": "execute_result"
    }
   ],
   "source": [
    "data.head()"
   ]
  },
  {
   "cell_type": "code",
   "execution_count": 11,
   "id": "04c0f9c2-c12b-47e5-ae53-aa2a84caf96f",
   "metadata": {},
   "outputs": [
    {
     "data": {
      "text/html": [
       "<div>\n",
       "<style scoped>\n",
       "    .dataframe tbody tr th:only-of-type {\n",
       "        vertical-align: middle;\n",
       "    }\n",
       "\n",
       "    .dataframe tbody tr th {\n",
       "        vertical-align: top;\n",
       "    }\n",
       "\n",
       "    .dataframe thead th {\n",
       "        text-align: right;\n",
       "    }\n",
       "</style>\n",
       "<table border=\"1\" class=\"dataframe\">\n",
       "  <thead>\n",
       "    <tr style=\"text-align: right;\">\n",
       "      <th></th>\n",
       "      <th>seller_zip_code_prefix</th>\n",
       "      <th>seller_total_order_revenue</th>\n",
       "    </tr>\n",
       "  </thead>\n",
       "  <tbody>\n",
       "    <tr>\n",
       "      <th>count</th>\n",
       "      <td>3095.000000</td>\n",
       "      <td>3095.000000</td>\n",
       "    </tr>\n",
       "    <tr>\n",
       "      <th>mean</th>\n",
       "      <td>32291.059451</td>\n",
       "      <td>4391.484233</td>\n",
       "    </tr>\n",
       "    <tr>\n",
       "      <th>std</th>\n",
       "      <td>32713.453830</td>\n",
       "      <td>13921.997192</td>\n",
       "    </tr>\n",
       "    <tr>\n",
       "      <th>min</th>\n",
       "      <td>1001.000000</td>\n",
       "      <td>3.500000</td>\n",
       "    </tr>\n",
       "    <tr>\n",
       "      <th>25%</th>\n",
       "      <td>7093.500000</td>\n",
       "      <td>208.850000</td>\n",
       "    </tr>\n",
       "    <tr>\n",
       "      <th>50%</th>\n",
       "      <td>14940.000000</td>\n",
       "      <td>821.480000</td>\n",
       "    </tr>\n",
       "    <tr>\n",
       "      <th>75%</th>\n",
       "      <td>64552.500000</td>\n",
       "      <td>3280.830000</td>\n",
       "    </tr>\n",
       "    <tr>\n",
       "      <th>max</th>\n",
       "      <td>99730.000000</td>\n",
       "      <td>229472.630000</td>\n",
       "    </tr>\n",
       "  </tbody>\n",
       "</table>\n",
       "</div>"
      ],
      "text/plain": [
       "       seller_zip_code_prefix  seller_total_order_revenue\n",
       "count             3095.000000                 3095.000000\n",
       "mean             32291.059451                 4391.484233\n",
       "std              32713.453830                13921.997192\n",
       "min               1001.000000                    3.500000\n",
       "25%               7093.500000                  208.850000\n",
       "50%              14940.000000                  821.480000\n",
       "75%              64552.500000                 3280.830000\n",
       "max              99730.000000               229472.630000"
      ]
     },
     "execution_count": 11,
     "metadata": {},
     "output_type": "execute_result"
    }
   ],
   "source": [
    "data.describe()"
   ]
  },
  {
   "cell_type": "code",
   "execution_count": 12,
   "id": "fd9ec6fc-f34d-424c-93d4-08096c08ee4b",
   "metadata": {},
   "outputs": [],
   "source": [
    "grouped = data.groupby(['seller_city'])['seller_total_order_revenue'].sum()"
   ]
  },
  {
   "cell_type": "code",
   "execution_count": 13,
   "id": "ba3983f8-6ba9-412f-894a-26ccb99cc059",
   "metadata": {},
   "outputs": [
    {
     "data": {
      "text/plain": [
       "seller_city\n",
       "04482255             399.90\n",
       "abadia de goias      142.47\n",
       "afonso claudio       293.99\n",
       "aguas claras df       35.00\n",
       "alambari             138.60\n",
       "                     ...   \n",
       "volta redonda      12954.79\n",
       "votorantim         20056.34\n",
       "votuporanga        21107.47\n",
       "xanxere             2297.05\n",
       "xaxim                360.00\n",
       "Name: seller_total_order_revenue, Length: 611, dtype: float64"
      ]
     },
     "metadata": {},
     "output_type": "display_data"
    }
   ],
   "source": [
    "display(grouped)"
   ]
  },
  {
   "cell_type": "code",
   "execution_count": 14,
   "id": "f4df7d99-c28b-428c-a048-0be16362e23a",
   "metadata": {},
   "outputs": [],
   "source": [
    "data['seller_city'] = data['seller_city'].replace('4482255' ,'rio de janeiro')"
   ]
  },
  {
   "cell_type": "code",
   "execution_count": 15,
   "id": "083686ec-847f-4b61-820c-41123adf74b1",
   "metadata": {},
   "outputs": [],
   "source": [
    "grouped = data.groupby(['seller_city'])['seller_total_order_revenue'].sum()"
   ]
  },
  {
   "cell_type": "code",
   "execution_count": 16,
   "id": "7f836174-e823-419b-b993-e2cc528c8a8b",
   "metadata": {},
   "outputs": [
    {
     "data": {
      "text/plain": [
       "seller_city\n",
       "04482255             399.90\n",
       "abadia de goias      142.47\n",
       "afonso claudio       293.99\n",
       "aguas claras df       35.00\n",
       "alambari             138.60\n",
       "                     ...   \n",
       "volta redonda      12954.79\n",
       "votorantim         20056.34\n",
       "votuporanga        21107.47\n",
       "xanxere             2297.05\n",
       "xaxim                360.00\n",
       "Name: seller_total_order_revenue, Length: 611, dtype: float64"
      ]
     },
     "metadata": {},
     "output_type": "display_data"
    }
   ],
   "source": [
    "display(grouped)"
   ]
  },
  {
   "cell_type": "code",
   "execution_count": 17,
   "id": "bab11c1b-26bd-4b5d-8419-89eec79db7a7",
   "metadata": {},
   "outputs": [
    {
     "data": {
      "text/plain": [
       "count    6.110000e+02\n",
       "mean     2.224492e+04\n",
       "std      1.199028e+05\n",
       "min      9.990000e+00\n",
       "25%      4.080400e+02\n",
       "50%      2.368800e+03\n",
       "75%      1.196474e+04\n",
       "max      2.702878e+06\n",
       "Name: seller_total_order_revenue, dtype: float64"
      ]
     },
     "execution_count": 17,
     "metadata": {},
     "output_type": "execute_result"
    }
   ],
   "source": [
    "grouped.describe()"
   ]
  },
  {
   "cell_type": "code",
   "execution_count": 18,
   "id": "66176b57-fad3-49ee-bc52-551a17514dec",
   "metadata": {},
   "outputs": [
    {
     "name": "stdout",
     "output_type": "stream",
     "text": [
      "<class 'pandas.core.series.Series'>\n",
      "Index: 611 entries, 04482255 to xaxim\n",
      "Series name: seller_total_order_revenue\n",
      "Non-Null Count  Dtype  \n",
      "--------------  -----  \n",
      "611 non-null    float64\n",
      "dtypes: float64(1)\n",
      "memory usage: 25.7 KB\n"
     ]
    }
   ],
   "source": [
    "grouped.info()"
   ]
  },
  {
   "cell_type": "code",
   "execution_count": 19,
   "id": "010577d3-74b2-4f89-b7c8-9e2411f03753",
   "metadata": {},
   "outputs": [],
   "source": [
    "import seaborn as sns"
   ]
  },
  {
   "cell_type": "code",
   "execution_count": 20,
   "id": "24b39aaf-5dfd-4dfa-903b-bfe7664b369a",
   "metadata": {},
   "outputs": [],
   "source": [
    "grouped1 = data.groupby(['seller_state'])['seller_total_order_revenue'].sum().reset_index()"
   ]
  },
  {
   "cell_type": "code",
   "execution_count": 21,
   "id": "1d76ff78-cfe9-4ae4-94fe-db299db72e26",
   "metadata": {},
   "outputs": [
    {
     "name": "stdout",
     "output_type": "stream",
     "text": [
      "<class 'pandas.core.frame.DataFrame'>\n",
      "RangeIndex: 23 entries, 0 to 22\n",
      "Data columns (total 2 columns):\n",
      " #   Column                      Non-Null Count  Dtype  \n",
      "---  ------                      --------------  -----  \n",
      " 0   seller_state                23 non-null     string \n",
      " 1   seller_total_order_revenue  23 non-null     float64\n",
      "dtypes: float64(1), string(1)\n",
      "memory usage: 496.0 bytes\n"
     ]
    }
   ],
   "source": [
    "grouped1.info()"
   ]
  },
  {
   "cell_type": "code",
   "execution_count": 22,
   "id": "958c24d5-2d33-4310-ba60-648be4eae6b8",
   "metadata": {},
   "outputs": [
    {
     "data": {
      "text/html": [
       "<div>\n",
       "<style scoped>\n",
       "    .dataframe tbody tr th:only-of-type {\n",
       "        vertical-align: middle;\n",
       "    }\n",
       "\n",
       "    .dataframe tbody tr th {\n",
       "        vertical-align: top;\n",
       "    }\n",
       "\n",
       "    .dataframe thead th {\n",
       "        text-align: right;\n",
       "    }\n",
       "</style>\n",
       "<table border=\"1\" class=\"dataframe\">\n",
       "  <thead>\n",
       "    <tr style=\"text-align: right;\">\n",
       "      <th></th>\n",
       "      <th>seller_state</th>\n",
       "      <th>seller_total_order_revenue</th>\n",
       "    </tr>\n",
       "  </thead>\n",
       "  <tbody>\n",
       "    <tr>\n",
       "      <th>0</th>\n",
       "      <td>AC</td>\n",
       "      <td>267.00</td>\n",
       "    </tr>\n",
       "    <tr>\n",
       "      <th>1</th>\n",
       "      <td>AM</td>\n",
       "      <td>1177.00</td>\n",
       "    </tr>\n",
       "    <tr>\n",
       "      <th>2</th>\n",
       "      <td>BA</td>\n",
       "      <td>285561.56</td>\n",
       "    </tr>\n",
       "    <tr>\n",
       "      <th>3</th>\n",
       "      <td>CE</td>\n",
       "      <td>20240.64</td>\n",
       "    </tr>\n",
       "    <tr>\n",
       "      <th>4</th>\n",
       "      <td>DF</td>\n",
       "      <td>97749.48</td>\n",
       "    </tr>\n",
       "  </tbody>\n",
       "</table>\n",
       "</div>"
      ],
      "text/plain": [
       "  seller_state  seller_total_order_revenue\n",
       "0           AC                      267.00\n",
       "1           AM                     1177.00\n",
       "2           BA                   285561.56\n",
       "3           CE                    20240.64\n",
       "4           DF                    97749.48"
      ]
     },
     "execution_count": 22,
     "metadata": {},
     "output_type": "execute_result"
    }
   ],
   "source": [
    "grouped1.head()"
   ]
  },
  {
   "cell_type": "code",
   "execution_count": 23,
   "id": "697e5e0b-d3ac-4ad5-9be2-41d0e29139be",
   "metadata": {},
   "outputs": [],
   "source": [
    "grouped1 = grouped1.sort_values(by='seller_total_order_revenue')"
   ]
  },
  {
   "cell_type": "code",
   "execution_count": 24,
   "id": "9644682d-be84-4a04-975d-afac4166684c",
   "metadata": {},
   "outputs": [
    {
     "data": {
      "text/html": [
       "<div>\n",
       "<style scoped>\n",
       "    .dataframe tbody tr th:only-of-type {\n",
       "        vertical-align: middle;\n",
       "    }\n",
       "\n",
       "    .dataframe tbody tr th {\n",
       "        vertical-align: top;\n",
       "    }\n",
       "\n",
       "    .dataframe thead th {\n",
       "        text-align: right;\n",
       "    }\n",
       "</style>\n",
       "<table border=\"1\" class=\"dataframe\">\n",
       "  <thead>\n",
       "    <tr style=\"text-align: right;\">\n",
       "      <th></th>\n",
       "      <th>seller_state</th>\n",
       "      <th>seller_total_order_revenue</th>\n",
       "    </tr>\n",
       "  </thead>\n",
       "  <tbody>\n",
       "    <tr>\n",
       "      <th>0</th>\n",
       "      <td>AC</td>\n",
       "      <td>267.00</td>\n",
       "    </tr>\n",
       "    <tr>\n",
       "      <th>1</th>\n",
       "      <td>AM</td>\n",
       "      <td>1177.00</td>\n",
       "    </tr>\n",
       "    <tr>\n",
       "      <th>11</th>\n",
       "      <td>PA</td>\n",
       "      <td>1238.00</td>\n",
       "    </tr>\n",
       "    <tr>\n",
       "      <th>21</th>\n",
       "      <td>SE</td>\n",
       "      <td>1606.20</td>\n",
       "    </tr>\n",
       "    <tr>\n",
       "      <th>14</th>\n",
       "      <td>PI</td>\n",
       "      <td>2522.00</td>\n",
       "    </tr>\n",
       "    <tr>\n",
       "      <th>18</th>\n",
       "      <td>RO</td>\n",
       "      <td>4762.20</td>\n",
       "    </tr>\n",
       "    <tr>\n",
       "      <th>9</th>\n",
       "      <td>MS</td>\n",
       "      <td>8551.69</td>\n",
       "    </tr>\n",
       "    <tr>\n",
       "      <th>17</th>\n",
       "      <td>RN</td>\n",
       "      <td>9992.60</td>\n",
       "    </tr>\n",
       "    <tr>\n",
       "      <th>10</th>\n",
       "      <td>MT</td>\n",
       "      <td>17070.72</td>\n",
       "    </tr>\n",
       "    <tr>\n",
       "      <th>12</th>\n",
       "      <td>PB</td>\n",
       "      <td>17095.00</td>\n",
       "    </tr>\n",
       "    <tr>\n",
       "      <th>3</th>\n",
       "      <td>CE</td>\n",
       "      <td>20240.64</td>\n",
       "    </tr>\n",
       "    <tr>\n",
       "      <th>7</th>\n",
       "      <td>MA</td>\n",
       "      <td>36408.95</td>\n",
       "    </tr>\n",
       "    <tr>\n",
       "      <th>5</th>\n",
       "      <td>ES</td>\n",
       "      <td>47689.61</td>\n",
       "    </tr>\n",
       "    <tr>\n",
       "      <th>6</th>\n",
       "      <td>GO</td>\n",
       "      <td>66399.21</td>\n",
       "    </tr>\n",
       "    <tr>\n",
       "      <th>13</th>\n",
       "      <td>PE</td>\n",
       "      <td>91493.85</td>\n",
       "    </tr>\n",
       "    <tr>\n",
       "      <th>4</th>\n",
       "      <td>DF</td>\n",
       "      <td>97749.48</td>\n",
       "    </tr>\n",
       "    <tr>\n",
       "      <th>2</th>\n",
       "      <td>BA</td>\n",
       "      <td>285561.56</td>\n",
       "    </tr>\n",
       "    <tr>\n",
       "      <th>19</th>\n",
       "      <td>RS</td>\n",
       "      <td>378559.54</td>\n",
       "    </tr>\n",
       "    <tr>\n",
       "      <th>20</th>\n",
       "      <td>SC</td>\n",
       "      <td>632426.07</td>\n",
       "    </tr>\n",
       "    <tr>\n",
       "      <th>16</th>\n",
       "      <td>RJ</td>\n",
       "      <td>843984.22</td>\n",
       "    </tr>\n",
       "    <tr>\n",
       "      <th>8</th>\n",
       "      <td>MG</td>\n",
       "      <td>1011564.74</td>\n",
       "    </tr>\n",
       "    <tr>\n",
       "      <th>15</th>\n",
       "      <td>PR</td>\n",
       "      <td>1261887.21</td>\n",
       "    </tr>\n",
       "    <tr>\n",
       "      <th>22</th>\n",
       "      <td>SP</td>\n",
       "      <td>8753396.21</td>\n",
       "    </tr>\n",
       "  </tbody>\n",
       "</table>\n",
       "</div>"
      ],
      "text/plain": [
       "   seller_state  seller_total_order_revenue\n",
       "0            AC                      267.00\n",
       "1            AM                     1177.00\n",
       "11           PA                     1238.00\n",
       "21           SE                     1606.20\n",
       "14           PI                     2522.00\n",
       "18           RO                     4762.20\n",
       "9            MS                     8551.69\n",
       "17           RN                     9992.60\n",
       "10           MT                    17070.72\n",
       "12           PB                    17095.00\n",
       "3            CE                    20240.64\n",
       "7            MA                    36408.95\n",
       "5            ES                    47689.61\n",
       "6            GO                    66399.21\n",
       "13           PE                    91493.85\n",
       "4            DF                    97749.48\n",
       "2            BA                   285561.56\n",
       "19           RS                   378559.54\n",
       "20           SC                   632426.07\n",
       "16           RJ                   843984.22\n",
       "8            MG                  1011564.74\n",
       "15           PR                  1261887.21\n",
       "22           SP                  8753396.21"
      ]
     },
     "metadata": {},
     "output_type": "display_data"
    }
   ],
   "source": [
    "display(grouped1)"
   ]
  },
  {
   "cell_type": "code",
   "execution_count": 25,
   "id": "521069d1-cba8-43cc-996b-caf5f19e080e",
   "metadata": {},
   "outputs": [
    {
     "data": {
      "text/plain": [
       "<Axes: xlabel='seller_state', ylabel='seller_total_order_revenue'>"
      ]
     },
     "execution_count": 25,
     "metadata": {},
     "output_type": "execute_result"
    },
    {
     "data": {
      "image/png": "[encoded data removed]",
      "text/plain": [
       "<Figure size 640x480 with 1 Axes>"
      ]
     },
     "metadata": {},
     "output_type": "display_data"
    }
   ],
   "source": [
    "sns.barplot(data=grouped1, x=\"seller_state\", y=\"seller_total_order_revenue\")"
   ]
  },
  {
   "cell_type": "code",
   "execution_count": 26,
   "id": "d5187ac6-e42c-4d4c-8105-8eb7950e5444",
   "metadata": {},
   "outputs": [],
   "source": [
    "grouped1['seller_total_order_revenue_%']=(grouped1['seller_total_order_revenue'])/grouped1['seller_total_order_revenue'].sum()*100"
   ]
  },
  {
   "cell_type": "code",
   "execution_count": 27,
   "id": "548d5fcf-4e26-48b1-ba14-d8897e87ec4f",
   "metadata": {},
   "outputs": [
    {
     "data": {
      "text/html": [
       "<div>\n",
       "<style scoped>\n",
       "    .dataframe tbody tr th:only-of-type {\n",
       "        vertical-align: middle;\n",
       "    }\n",
       "\n",
       "    .dataframe tbody tr th {\n",
       "        vertical-align: top;\n",
       "    }\n",
       "\n",
       "    .dataframe thead th {\n",
       "        text-align: right;\n",
       "    }\n",
       "</style>\n",
       "<table border=\"1\" class=\"dataframe\">\n",
       "  <thead>\n",
       "    <tr style=\"text-align: right;\">\n",
       "      <th></th>\n",
       "      <th>seller_state</th>\n",
       "      <th>seller_total_order_revenue</th>\n",
       "      <th>seller_total_order_revenue_%</th>\n",
       "    </tr>\n",
       "  </thead>\n",
       "  <tbody>\n",
       "    <tr>\n",
       "      <th>0</th>\n",
       "      <td>AC</td>\n",
       "      <td>267.00</td>\n",
       "      <td>0.001964</td>\n",
       "    </tr>\n",
       "    <tr>\n",
       "      <th>1</th>\n",
       "      <td>AM</td>\n",
       "      <td>1177.00</td>\n",
       "      <td>0.008660</td>\n",
       "    </tr>\n",
       "    <tr>\n",
       "      <th>11</th>\n",
       "      <td>PA</td>\n",
       "      <td>1238.00</td>\n",
       "      <td>0.009109</td>\n",
       "    </tr>\n",
       "    <tr>\n",
       "      <th>21</th>\n",
       "      <td>SE</td>\n",
       "      <td>1606.20</td>\n",
       "      <td>0.011818</td>\n",
       "    </tr>\n",
       "    <tr>\n",
       "      <th>14</th>\n",
       "      <td>PI</td>\n",
       "      <td>2522.00</td>\n",
       "      <td>0.018556</td>\n",
       "    </tr>\n",
       "    <tr>\n",
       "      <th>18</th>\n",
       "      <td>RO</td>\n",
       "      <td>4762.20</td>\n",
       "      <td>0.035038</td>\n",
       "    </tr>\n",
       "    <tr>\n",
       "      <th>9</th>\n",
       "      <td>MS</td>\n",
       "      <td>8551.69</td>\n",
       "      <td>0.062919</td>\n",
       "    </tr>\n",
       "    <tr>\n",
       "      <th>17</th>\n",
       "      <td>RN</td>\n",
       "      <td>9992.60</td>\n",
       "      <td>0.073520</td>\n",
       "    </tr>\n",
       "    <tr>\n",
       "      <th>10</th>\n",
       "      <td>MT</td>\n",
       "      <td>17070.72</td>\n",
       "      <td>0.125597</td>\n",
       "    </tr>\n",
       "    <tr>\n",
       "      <th>12</th>\n",
       "      <td>PB</td>\n",
       "      <td>17095.00</td>\n",
       "      <td>0.125776</td>\n",
       "    </tr>\n",
       "    <tr>\n",
       "      <th>3</th>\n",
       "      <td>CE</td>\n",
       "      <td>20240.64</td>\n",
       "      <td>0.148920</td>\n",
       "    </tr>\n",
       "    <tr>\n",
       "      <th>7</th>\n",
       "      <td>MA</td>\n",
       "      <td>36408.95</td>\n",
       "      <td>0.267877</td>\n",
       "    </tr>\n",
       "    <tr>\n",
       "      <th>5</th>\n",
       "      <td>ES</td>\n",
       "      <td>47689.61</td>\n",
       "      <td>0.350874</td>\n",
       "    </tr>\n",
       "    <tr>\n",
       "      <th>6</th>\n",
       "      <td>GO</td>\n",
       "      <td>66399.21</td>\n",
       "      <td>0.488530</td>\n",
       "    </tr>\n",
       "    <tr>\n",
       "      <th>13</th>\n",
       "      <td>PE</td>\n",
       "      <td>91493.85</td>\n",
       "      <td>0.673163</td>\n",
       "    </tr>\n",
       "    <tr>\n",
       "      <th>4</th>\n",
       "      <td>DF</td>\n",
       "      <td>97749.48</td>\n",
       "      <td>0.719188</td>\n",
       "    </tr>\n",
       "    <tr>\n",
       "      <th>2</th>\n",
       "      <td>BA</td>\n",
       "      <td>285561.56</td>\n",
       "      <td>2.101008</td>\n",
       "    </tr>\n",
       "    <tr>\n",
       "      <th>19</th>\n",
       "      <td>RS</td>\n",
       "      <td>378559.54</td>\n",
       "      <td>2.785237</td>\n",
       "    </tr>\n",
       "    <tr>\n",
       "      <th>20</th>\n",
       "      <td>SC</td>\n",
       "      <td>632426.07</td>\n",
       "      <td>4.653051</td>\n",
       "    </tr>\n",
       "    <tr>\n",
       "      <th>16</th>\n",
       "      <td>RJ</td>\n",
       "      <td>843984.22</td>\n",
       "      <td>6.209582</td>\n",
       "    </tr>\n",
       "    <tr>\n",
       "      <th>8</th>\n",
       "      <td>MG</td>\n",
       "      <td>1011564.74</td>\n",
       "      <td>7.442549</td>\n",
       "    </tr>\n",
       "    <tr>\n",
       "      <th>15</th>\n",
       "      <td>PR</td>\n",
       "      <td>1261887.21</td>\n",
       "      <td>9.284287</td>\n",
       "    </tr>\n",
       "    <tr>\n",
       "      <th>22</th>\n",
       "      <td>SP</td>\n",
       "      <td>8753396.21</td>\n",
       "      <td>64.402779</td>\n",
       "    </tr>\n",
       "  </tbody>\n",
       "</table>\n",
       "</div>"
      ],
      "text/plain": [
       "   seller_state  seller_total_order_revenue  seller_total_order_revenue_%\n",
       "0            AC                      267.00                      0.001964\n",
       "1            AM                     1177.00                      0.008660\n",
       "11           PA                     1238.00                      0.009109\n",
       "21           SE                     1606.20                      0.011818\n",
       "14           PI                     2522.00                      0.018556\n",
       "18           RO                     4762.20                      0.035038\n",
       "9            MS                     8551.69                      0.062919\n",
       "17           RN                     9992.60                      0.073520\n",
       "10           MT                    17070.72                      0.125597\n",
       "12           PB                    17095.00                      0.125776\n",
       "3            CE                    20240.64                      0.148920\n",
       "7            MA                    36408.95                      0.267877\n",
       "5            ES                    47689.61                      0.350874\n",
       "6            GO                    66399.21                      0.488530\n",
       "13           PE                    91493.85                      0.673163\n",
       "4            DF                    97749.48                      0.719188\n",
       "2            BA                   285561.56                      2.101008\n",
       "19           RS                   378559.54                      2.785237\n",
       "20           SC                   632426.07                      4.653051\n",
       "16           RJ                   843984.22                      6.209582\n",
       "8            MG                  1011564.74                      7.442549\n",
       "15           PR                  1261887.21                      9.284287\n",
       "22           SP                  8753396.21                     64.402779"
      ]
     },
     "metadata": {},
     "output_type": "display_data"
    }
   ],
   "source": [
    "display(grouped1)"
   ]
  },
  {
   "cell_type": "code",
   "execution_count": 28,
   "id": "2ead2111-91b0-4689-b14f-fe4d37a47015",
   "metadata": {},
   "outputs": [
    {
     "data": {
      "image/png": "[encoded data removed]",
      "text/plain": [
       "<Figure size 640x480 with 2 Axes>"
      ]
     },
     "metadata": {},
     "output_type": "display_data"
    }
   ],
   "source": [
    "# Create figure and primary y-axis\n",
    "fig, ax1 = plt.subplots()\n",
    "\n",
    "# Create barplot for revenue\n",
    "sns.barplot(x='seller_state', y='seller_total_order_revenue', data=grouped1, ax=ax1, color='skyblue')\n",
    "ax1.set_ylabel('seller_total_order_revenue ($)', fontsize=12, color='blue')\n",
    "\n",
    "# Create secondary y-axis\n",
    "ax2 = ax1.twinx()\n",
    "\n",
    "# Create lineplot for new subscribers\n",
    "sns.lineplot(x='seller_state', y='seller_total_order_revenue_%', data=grouped1, ax=ax2, color='coral', marker='o')\n",
    "ax2.set_ylabel('seller_total_order_revenue_%', fontsize=12, color='darkred')\n",
    "\n",
    "# Adjust the scale of the secondary y-axis\n",
    "ax2.set_ylim(0, 100)\n",
    "\n",
    "# Change axis and tick colors to match the data plots\n",
    "ax1.yaxis.label.set_color('blue')\n",
    "ax2.yaxis.label.set_color('darkred')\n",
    "ax1.tick_params(axis='y', colors='blue')\n",
    "ax2.tick_params(axis='y', colors='darkred')\n",
    "\n",
    "# Display the plot\n",
    "plt.show()"
   ]
  },
  {
   "cell_type": "code",
   "execution_count": 29,
   "id": "99e81dae-0f6e-4758-adc4-b82f3c0c346b",
   "metadata": {},
   "outputs": [
    {
     "name": "stdout",
     "output_type": "stream",
     "text": [
      "Requirement already satisfied: sqlalchemy in c:\\users\\cyewp\\miniconda3\\envs\\pds\\lib\\site-packages (1.4.39)\n",
      "Requirement already satisfied: pybigquery in c:\\users\\cyewp\\miniconda3\\envs\\pds\\lib\\site-packages (0.5.0)\n",
      "Requirement already satisfied: google-auth in c:\\users\\cyewp\\miniconda3\\envs\\pds\\lib\\site-packages (2.38.0)\n",
      "Requirement already satisfied: greenlet!=0.4.17 in c:\\users\\cyewp\\miniconda3\\envs\\pds\\lib\\site-packages (from sqlalchemy) (3.1.1)\n",
      "Requirement already satisfied: google-cloud-bigquery>=1.6.0 in c:\\users\\cyewp\\miniconda3\\envs\\pds\\lib\\site-packages (from pybigquery) (3.31.0)\n",
      "Requirement already satisfied: future in c:\\users\\cyewp\\miniconda3\\envs\\pds\\lib\\site-packages (from pybigquery) (1.0.0)\n",
      "Requirement already satisfied: cachetools<6.0,>=2.0.0 in c:\\users\\cyewp\\miniconda3\\envs\\pds\\lib\\site-packages (from google-auth) (5.5.2)\n",
      "Requirement already satisfied: pyasn1-modules>=0.2.1 in c:\\users\\cyewp\\miniconda3\\envs\\pds\\lib\\site-packages (from google-auth) (0.4.1)\n",
      "Requirement already satisfied: rsa<5,>=3.1.4 in c:\\users\\cyewp\\miniconda3\\envs\\pds\\lib\\site-packages (from google-auth) (4.9)\n",
      "Requirement already satisfied: google-api-core<3.0.0,>=2.11.1 in c:\\users\\cyewp\\miniconda3\\envs\\pds\\lib\\site-packages (from google-api-core[grpc]<3.0.0,>=2.11.1->google-cloud-bigquery>=1.6.0->pybigquery) (2.24.1)\n",
      "Requirement already satisfied: google-cloud-core<3.0.0,>=2.4.1 in c:\\users\\cyewp\\miniconda3\\envs\\pds\\lib\\site-packages (from google-cloud-bigquery>=1.6.0->pybigquery) (2.4.3)\n",
      "Requirement already satisfied: google-resumable-media<3.0.0,>=2.0.0 in c:\\users\\cyewp\\miniconda3\\envs\\pds\\lib\\site-packages (from google-cloud-bigquery>=1.6.0->pybigquery) (2.7.2)\n",
      "Requirement already satisfied: packaging>=24.2.0 in c:\\users\\cyewp\\miniconda3\\envs\\pds\\lib\\site-packages (from google-cloud-bigquery>=1.6.0->pybigquery) (24.2)\n",
      "Requirement already satisfied: python-dateutil<3.0.0,>=2.8.2 in c:\\users\\cyewp\\miniconda3\\envs\\pds\\lib\\site-packages (from google-cloud-bigquery>=1.6.0->pybigquery) (2.9.0.post0)\n",
      "Requirement already satisfied: requests<3.0.0,>=2.21.0 in c:\\users\\cyewp\\miniconda3\\envs\\pds\\lib\\site-packages (from google-cloud-bigquery>=1.6.0->pybigquery) (2.32.3)\n",
      "Requirement already satisfied: pyasn1<0.7.0,>=0.4.6 in c:\\users\\cyewp\\miniconda3\\envs\\pds\\lib\\site-packages (from pyasn1-modules>=0.2.1->google-auth) (0.6.1)\n",
      "Requirement already satisfied: googleapis-common-protos<2.0.dev0,>=1.56.2 in c:\\users\\cyewp\\miniconda3\\envs\\pds\\lib\\site-packages (from google-api-core<3.0.0,>=2.11.1->google-api-core[grpc]<3.0.0,>=2.11.1->google-cloud-bigquery>=1.6.0->pybigquery) (1.69.1)\n",
      "Requirement already satisfied: protobuf!=3.20.0,!=3.20.1,!=4.21.0,!=4.21.1,!=4.21.2,!=4.21.3,!=4.21.4,!=4.21.5,<6.0.0.dev0,>=3.19.5 in c:\\users\\cyewp\\miniconda3\\envs\\pds\\lib\\site-packages (from google-api-core<3.0.0,>=2.11.1->google-api-core[grpc]<3.0.0,>=2.11.1->google-cloud-bigquery>=1.6.0->pybigquery) (5.29.3)\n",
      "Requirement already satisfied: proto-plus<2.0.0dev,>=1.22.3 in c:\\users\\cyewp\\miniconda3\\envs\\pds\\lib\\site-packages (from google-api-core<3.0.0,>=2.11.1->google-api-core[grpc]<3.0.0,>=2.11.1->google-cloud-bigquery>=1.6.0->pybigquery) (1.26.0)\n",
      "Requirement already satisfied: grpcio<2.0dev,>=1.33.2 in c:\\users\\cyewp\\miniconda3\\envs\\pds\\lib\\site-packages (from google-api-core[grpc]<3.0.0,>=2.11.1->google-cloud-bigquery>=1.6.0->pybigquery) (1.71.0)\n",
      "Requirement already satisfied: grpcio-status<2.0.dev0,>=1.33.2 in c:\\users\\cyewp\\miniconda3\\envs\\pds\\lib\\site-packages (from google-api-core[grpc]<3.0.0,>=2.11.1->google-cloud-bigquery>=1.6.0->pybigquery) (1.71.0)\n",
      "Requirement already satisfied: google-crc32c<2.0dev,>=1.0 in c:\\users\\cyewp\\miniconda3\\envs\\pds\\lib\\site-packages (from google-resumable-media<3.0.0,>=2.0.0->google-cloud-bigquery>=1.6.0->pybigquery) (1.7.1)\n",
      "Requirement already satisfied: six>=1.5 in c:\\users\\cyewp\\miniconda3\\envs\\pds\\lib\\site-packages (from python-dateutil<3.0.0,>=2.8.2->google-cloud-bigquery>=1.6.0->pybigquery) (1.16.0)\n",
      "Requirement already satisfied: charset-normalizer<4,>=2 in c:\\users\\cyewp\\miniconda3\\envs\\pds\\lib\\site-packages (from requests<3.0.0,>=2.21.0->google-cloud-bigquery>=1.6.0->pybigquery) (3.3.2)\n",
      "Requirement already satisfied: idna<4,>=2.5 in c:\\users\\cyewp\\miniconda3\\envs\\pds\\lib\\site-packages (from requests<3.0.0,>=2.21.0->google-cloud-bigquery>=1.6.0->pybigquery) (3.7)\n",
      "Requirement already satisfied: urllib3<3,>=1.21.1 in c:\\users\\cyewp\\miniconda3\\envs\\pds\\lib\\site-packages (from requests<3.0.0,>=2.21.0->google-cloud-bigquery>=1.6.0->pybigquery) (2.3.0)\n",
      "Requirement already satisfied: certifi>=2017.4.17 in c:\\users\\cyewp\\miniconda3\\envs\\pds\\lib\\site-packages (from requests<3.0.0,>=2.21.0->google-cloud-bigquery>=1.6.0->pybigquery) (2024.12.14)\n",
      "Note: you may need to restart the kernel to use updated packages.\n"
     ]
    }
   ],
   "source": [
    "pip install sqlalchemy pybigquery google-auth"
   ]
  },
  {
   "cell_type": "code",
   "execution_count": null,
   "id": "b726c7c7-0c1c-448b-8249-ba17720f4e55",
   "metadata": {},
   "outputs": [],
   "source": []
  }
 ],
 "metadata": {
  "kernelspec": {
   "display_name": "Python 3 (ipykernel)",
   "language": "python",
   "name": "python3"
  },
  "language_info": {
   "codemirror_mode": {
    "name": "ipython",
    "version": 3
   },
   "file_extension": ".py",
   "mimetype": "text/x-python",
   "name": "python",
   "nbconvert_exporter": "python",
   "pygments_lexer": "ipython3",
   "version": "3.10.16"
  }
 },
 "nbformat": 4,
 "nbformat_minor": 5
}
